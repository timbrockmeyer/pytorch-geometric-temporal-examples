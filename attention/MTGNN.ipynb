{
 "cells": [
  {
   "cell_type": "markdown",
   "id": "001a42c0",
   "metadata": {},
   "source": [
    "## Multivariate Timeseries Graph Neural Network (MTGNN)\n",
    "The MTGNN model is a combination of graph convolution (GC) and temporal convolution (TC) blocks combined with a graph structure learning layer.<br />\n",
    "\n",
    "The graph construction layer assumes the information flow between nodes in the graph<br />\n",
    "is strictly uni-directional and learns a skew-symmetric adjacency matrix, meaning that $ A = -A^T$. <br />\n",
    "This matrix $A$ is then put through a ReLU function to remove the negative weights.\n",
    "\n",
    "The model structure looks like:<br /><br />\n",
    "<pre>\n",
    "    &#8625; res_channels &#10141;                 &#8628; <br />\n",
    "... &#10141;    TC   &#10141;     GC|A   &#10141; GC_out + res_channels &#10141; ... &#10141; last_layer_out <br />\n",
    "... &#10141;         &#8627; TC_out + skip channels &#10141;            &#10565; ... &#10565;     &#8627; last_layer_out + skip_channels  <br />\n",
    "                                                                                   &#8681; <br />\n",
    "                                                                              end_channels  \n",
    "                                                                                   &#8681; <br />\n",
    "                                                                              out_channels <br />\n",
    "<br /></pre>\n",
    "The skip connections are summed up after every temporal convolution and carried until the end of the model and used to compute the final output. <br />\n",
    "Residual connections go from the input of a TC/GC block to the output. <br />"
   ]
  },
  {
   "cell_type": "markdown",
   "id": "cb588c1e",
   "metadata": {},
   "source": [
    "### MTGNN"
   ]
  },
  {
   "cell_type": "code",
   "execution_count": 13,
   "id": "7e473b3a",
   "metadata": {},
   "outputs": [
    {
     "name": "stderr",
     "output_type": "stream",
     "text": [
      "100%|██████████| 200/200 [06:53<00:00,  2.07s/it]\n"
     ]
    },
    {
     "data": {
      "image/png": "[encoded data removed]",
      "text/plain": [
       "<Figure size 432x288 with 1 Axes>"
      ]
     },
     "metadata": {
      "needs_background": "light"
     },
     "output_type": "display_data"
    },
    {
     "name": "stdout",
     "output_type": "stream",
     "text": [
      "Train MSE: 0.1186\n",
      "Test MSE: 0.7675\n"
     ]
    }
   ],
   "source": [
    "import numpy as np\n",
    "from tqdm import tqdm\n",
    "import matplotlib.pyplot as plt\n",
    "\n",
    "import torch\n",
    "from torch import nn\n",
    "from torch_geometric_temporal.nn.attention import MTGNN\n",
    "from torch_geometric_temporal.dataset import ChickenpoxDatasetLoader\n",
    "from torch_geometric_temporal.signal import temporal_signal_split\n",
    "\n",
    "from torch_geometric.data import DataLoader\n",
    "\n",
    "loader = ChickenpoxDatasetLoader()\n",
    "\n",
    "lags = 10\n",
    "stride = 1\n",
    "epochs = 200\n",
    "batch_size = 32\n",
    "\n",
    "dataset = loader.get_dataset(lags)\n",
    "\n",
    "sample = next(iter(dataset))\n",
    "num_nodes = sample.x.size(0)\n",
    "\n",
    "train_dataset, test_dataset = temporal_signal_split(dataset, train_ratio=0.4)\n",
    "\n",
    "train_loader = DataLoader(list(train_dataset), batch_size=batch_size, shuffle=True)\n",
    "test_loader = DataLoader(list(test_dataset), batch_size=batch_size, shuffle=False)\n",
    "\n",
    "### MODEL DEFINITION\n",
    "class AttentionGCN(nn.Module):\n",
    "    def __init__(self):\n",
    "        super(AttentionGCN, self).__init__()\n",
    "\n",
    "        self.attention = MTGNN(\n",
    "            gcn_true=True,\n",
    "            build_adj=True,\n",
    "            gcn_depth=2,\n",
    "            num_nodes=num_nodes,\n",
    "            kernel_set=[5,5,5],\n",
    "            kernel_size=5,\n",
    "            dropout=0.2,\n",
    "            subgraph_size=num_nodes,\n",
    "            node_dim=1,\n",
    "            dilation_exponential=3,\n",
    "            conv_channels=9,\n",
    "            residual_channels=16,\n",
    "            skip_channels=16,\n",
    "            end_channels=32,\n",
    "            seq_length=lags,\n",
    "            in_dim=1,\n",
    "            out_dim=1,\n",
    "            layers=3,\n",
    "            propalpha=0.4,\n",
    "            tanhalpha=1,\n",
    "            layer_norm_affline=True,\n",
    "            xd=None\n",
    "        )\n",
    "\n",
    "    def forward(self, window):     \n",
    "        x = window.x.view(-1, 1, num_nodes, lags) # (batch, 1, lags, num_nodes)      \n",
    "        x = self.attention(x) # (batch, lags, num_nodes, 1)\n",
    "        return x.squeeze(-1).permute(0,2,1).flatten()\n",
    "    \n",
    "model = AttentionGCN()\n",
    "optimizer = torch.optim.Adam(model.parameters(), lr=0.01)\n",
    "\n",
    "### TRAIN\n",
    "model.train()\n",
    "\n",
    "loss_history = []\n",
    "for _ in tqdm(range(epochs)):\n",
    "    total_loss = 0\n",
    "    for i, window in enumerate(train_loader):\n",
    "        optimizer.zero_grad()\n",
    "        y_pred = model(window)\n",
    "        \n",
    "        assert y_pred.shape == window.y.shape\n",
    "        loss = torch.mean((y_pred - window.y)**2)\n",
    "        total_loss += loss.item()\n",
    "        \n",
    "        loss.backward()\n",
    "        optimizer.step()\n",
    "    total_loss /= i+1\n",
    "    loss_history.append(total_loss)\n",
    "\n",
    "### TEST \n",
    "model.eval()\n",
    "loss = 0\n",
    "with torch.no_grad():\n",
    "    for i, window in enumerate(test_loader):\n",
    "        y_pred = model(window)\n",
    "        \n",
    "        assert y_pred.shape == window.y.shape\n",
    "        loss += torch.mean((y_pred - window.y)**2)\n",
    "    loss /= i+1\n",
    "\n",
    "### RESULTS PLOT\n",
    "fig, ax = plt.subplots()\n",
    "\n",
    "x_ticks = np.arange(1, epochs+1)\n",
    "ax.plot(x_ticks, loss_history)\n",
    "\n",
    "# figure labels\n",
    "ax.set_title('Loss over time', fontweight='bold')\n",
    "ax.set_xlabel('Epochs', fontweight='bold')\n",
    "ax.set_ylabel('Mean Squared Error', fontweight='bold')\n",
    "plt.show()\n",
    "\n",
    "print(\"Train MSE: {:.4f}\".format(total_loss))\n",
    "print(\"Test MSE: {:.4f}\".format(loss))\n"
   ]
  },
  {
   "cell_type": "code",
   "execution_count": null,
   "id": "a9b8547e",
   "metadata": {},
   "outputs": [],
   "source": []
  }
 ],
 "metadata": {
  "kernelspec": {
   "display_name": "Python 3 (ipykernel)",
   "language": "python",
   "name": "python3"
  },
  "language_info": {
   "codemirror_mode": {
    "name": "ipython",
    "version": 3
   },
   "file_extension": ".py",
   "mimetype": "text/x-python",
   "name": "python",
   "nbconvert_exporter": "python",
   "pygments_lexer": "ipython3",
   "version": "3.7.0"
  }
 },
 "nbformat": 4,
 "nbformat_minor": 5
}
