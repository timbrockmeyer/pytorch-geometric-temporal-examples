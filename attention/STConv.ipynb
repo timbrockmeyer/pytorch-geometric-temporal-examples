{
 "cells": [
  {
   "cell_type": "markdown",
   "id": "4af2332a",
   "metadata": {},
   "source": [
    "## Spatio-Temporal Convolution\n",
    "\n",
    "The STConv module contains two temporal and one spatial graph convolution. <br />\n",
    "\n",
    "TConv &#10141; SConv &#10141; ReLU &#10141; TConv &#10141; BatchNorm.<br />\n",
    "<br />"
   ]
  },
  {
   "cell_type": "markdown",
   "id": "6c060d97",
   "metadata": {},
   "source": [
    "### STConv"
   ]
  },
  {
   "cell_type": "code",
   "execution_count": 23,
   "id": "7e473b3a",
   "metadata": {},
   "outputs": [
    {
     "name": "stderr",
     "output_type": "stream",
     "text": [
      "100%|██████████| 500/500 [17:27<00:00,  2.10s/it]\n"
     ]
    },
    {
     "data": {
      "image/png": "[encoded data removed]",
      "text/plain": [
       "<Figure size 432x288 with 1 Axes>"
      ]
     },
     "metadata": {
      "needs_background": "light"
     },
     "output_type": "display_data"
    },
    {
     "name": "stdout",
     "output_type": "stream",
     "text": [
      "Train MSE: 0.0398\n",
      "Test MSE: 1.0116\n"
     ]
    }
   ],
   "source": [
    "import numpy as np\n",
    "from tqdm import tqdm\n",
    "import matplotlib.pyplot as plt\n",
    "\n",
    "import torch\n",
    "from torch import nn\n",
    "import torch.nn.functional as F\n",
    "from torch_geometric_temporal.nn.attention import STConv\n",
    "from torch_geometric_temporal.dataset import ChickenpoxDatasetLoader\n",
    "from torch_geometric_temporal.signal import temporal_signal_split\n",
    "\n",
    "from torch_geometric.data import DataLoader\n",
    "\n",
    "loader = ChickenpoxDatasetLoader()\n",
    "\n",
    "lags = 10\n",
    "stride = 1\n",
    "epochs = 500\n",
    "batch_size = 32\n",
    "\n",
    "dataset = loader.get_dataset(lags)\n",
    "\n",
    "sample = next(iter(dataset))\n",
    "num_nodes = sample.x.size(0)\n",
    "edge_index = sample.edge_index\n",
    "edge_weight = sample.edge_attr\n",
    "\n",
    "train_dataset, test_dataset = temporal_signal_split(dataset, train_ratio=0.4)\n",
    "\n",
    "train_loader = DataLoader(list(train_dataset), batch_size=batch_size, shuffle=True)\n",
    "test_loader = DataLoader(list(test_dataset), batch_size=batch_size, shuffle=False)\n",
    "\n",
    "### MODEL DEFINITION\n",
    "class AttentionGCN(nn.Module):\n",
    "    def __init__(self, num_nodes, lags):\n",
    "        super(AttentionGCN, self).__init__()\n",
    "                      \n",
    "        self.num_nodes = num_nodes\n",
    "        self.kernel_size = 3\n",
    "        self.pad_size = self.kernel_size - 1\n",
    "\n",
    "        self.gnn = STConv(\n",
    "            num_nodes=self.num_nodes, \n",
    "            in_channels=1, \n",
    "            hidden_channels=32, \n",
    "            out_channels=32, \n",
    "            kernel_size=self.kernel_size, \n",
    "            K=1)\n",
    "\n",
    "        self.conv = nn.Sequential( \n",
    "            nn.Conv2d(\n",
    "                in_channels=32,\n",
    "                out_channels=16,\n",
    "                kernel_size=(1, lags),\n",
    "                bias=True,\n",
    "            ),\n",
    "            nn.BatchNorm2d(16),\n",
    "            nn.ReLU(),\n",
    "            nn.Conv2d(\n",
    "                in_channels=16,\n",
    "                out_channels=1,\n",
    "                kernel_size=(1, 1),\n",
    "                bias=True,\n",
    "            )\n",
    "        )\n",
    "\n",
    "\n",
    "    def forward(self, window):\n",
    "        # print(window.x.shape)\n",
    "        x = F.pad(window.x, (self.pad_size,self.pad_size))\n",
    "        x = x.view(-1, num_nodes, lags+2*self.pad_size, 1).permute(0,2,1,3)\n",
    "   \n",
    "        H = F.relu(self.gnn(x, edge_index, edge_weight)) # -> (batch, lags, num_nodes, out_channels)\n",
    "\n",
    "        H = H.permute(0, 3, 2, 1) # -> (batch, out_channels, num_nodes, lags)\n",
    "        x = self.conv(H).squeeze(3) # -> (batch, num_nodes, lags)\n",
    "        \n",
    "        x = x.flatten()\n",
    "\n",
    "        return x\n",
    "    \n",
    "model = AttentionGCN(num_nodes=num_nodes, lags=lags)\n",
    "optimizer = torch.optim.Adam(model.parameters(), lr=0.01)\n",
    "\n",
    "### TRAIN\n",
    "model.train()\n",
    "\n",
    "loss_history = []\n",
    "for _ in tqdm(range(epochs)):\n",
    "    total_loss = 0\n",
    "    for i, window in enumerate(train_loader):\n",
    "        optimizer.zero_grad()\n",
    "        y_pred = model(window)\n",
    "        \n",
    "        assert y_pred.shape == window.y.shape\n",
    "        loss = torch.mean((y_pred - window.y)**2)\n",
    "        total_loss += loss.item()\n",
    "        \n",
    "        loss.backward()\n",
    "        optimizer.step()\n",
    "    total_loss /= i+1\n",
    "    loss_history.append(total_loss)\n",
    "\n",
    "### TEST \n",
    "model.eval()\n",
    "loss = 0\n",
    "with torch.no_grad():\n",
    "    for i, window in enumerate(test_loader):\n",
    "        y_pred = model(window)\n",
    "        \n",
    "        assert y_pred.shape == window.y.shape\n",
    "        loss += torch.mean((y_pred - window.y)**2)\n",
    "    loss /= i+1\n",
    "\n",
    "### RESULTS PLOT\n",
    "fig, ax = plt.subplots()\n",
    "\n",
    "x_ticks = np.arange(1, epochs+1)\n",
    "ax.plot(x_ticks, loss_history)\n",
    "\n",
    "# figure labels\n",
    "ax.set_title('Loss over time', fontweight='bold')\n",
    "ax.set_xlabel('Epochs', fontweight='bold')\n",
    "ax.set_ylabel('Mean Squared Error', fontweight='bold')\n",
    "plt.show()\n",
    "\n",
    "print(\"Train MSE: {:.4f}\".format(total_loss))\n",
    "print(\"Test MSE: {:.4f}\".format(loss))\n"
   ]
  },
  {
   "cell_type": "code",
   "execution_count": null,
   "id": "d25258e0",
   "metadata": {},
   "outputs": [],
   "source": []
  }
 ],
 "metadata": {
  "kernelspec": {
   "display_name": "Python 3 (ipykernel)",
   "language": "python",
   "name": "python3"
  },
  "language_info": {
   "codemirror_mode": {
    "name": "ipython",
    "version": 3
   },
   "file_extension": ".py",
   "mimetype": "text/x-python",
   "name": "python",
   "nbconvert_exporter": "python",
   "pygments_lexer": "ipython3",
   "version": "3.7.0"
  }
 },
 "nbformat": 4,
 "nbformat_minor": 5
}
