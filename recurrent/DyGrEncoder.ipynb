{
 "cells": [
  {
   "cell_type": "markdown",
   "id": "64e3755a",
   "metadata": {},
   "source": [
    "## Dynamic Graph Encoder\n",
    "The input is first put through a gated graph convolution unit from PyTorch Geometric. <br />\n",
    "Its output is fed into as standard pytorch LSTM unit. <br />\n",
    "\n",
    "The output of the DyGrEncoder is the last hidden state of the last LSTM layer. <br />\n",
    "\n",
    "In this example, the features of a single time step are expanded with the conv unit <br />\n",
    "and then sequentially integrated using the LSTM.<br />\n",
    "\n",
    "The H, C inputs to the DyGrEncoder are used to initialize the LSTM states. <br />\n",
    "The hidden and cell state are expanded internally to (1, ...), meaning one LSTM layer. <br />\n",
    "Therefore, more than one LSTM layer will fail to execute unless the initial states are _None_. <br />\n"
   ]
  },
  {
   "cell_type": "markdown",
   "id": "4fea8010",
   "metadata": {},
   "source": [
    "### GyGrEncoder"
   ]
  },
  {
   "cell_type": "code",
   "execution_count": 1,
   "id": "7e473b3a",
   "metadata": {},
   "outputs": [
    {
     "name": "stderr",
     "output_type": "stream",
     "text": [
      "100%|██████████| 200/200 [06:29<00:00,  1.95s/it]\n"
     ]
    },
    {
     "data": {
      "image/png": "[encoded data removed]",
      "text/plain": [
       "<Figure size 432x288 with 1 Axes>"
      ]
     },
     "metadata": {
      "needs_background": "light"
     },
     "output_type": "display_data"
    },
    {
     "name": "stdout",
     "output_type": "stream",
     "text": [
      "Train MSE: 0.0775\n",
      "Test MSE: 0.9859\n"
     ]
    }
   ],
   "source": [
    "import numpy as np\n",
    "from tqdm import tqdm\n",
    "import matplotlib.pyplot as plt\n",
    "\n",
    "import torch\n",
    "from torch import nn\n",
    "from torch_geometric_temporal.nn.recurrent import DyGrEncoder\n",
    "\n",
    "from torch_geometric_temporal.dataset import ChickenpoxDatasetLoader\n",
    "from torch_geometric_temporal.signal import temporal_signal_split\n",
    "\n",
    "loader = ChickenpoxDatasetLoader()\n",
    "\n",
    "lags = 10\n",
    "epochs = 200\n",
    "\n",
    "dataset = loader.get_dataset(lags)\n",
    "\n",
    "train_dataset, test_dataset = temporal_signal_split(dataset, train_ratio=0.2)\n",
    "\n",
    "### MODEL DEFINITION\n",
    "class RecurrentGCN(nn.Module):\n",
    "    def __init__(self):\n",
    "        super(RecurrentGCN, self).__init__()\n",
    "\n",
    "        self.rnn = DyGrEncoder(\n",
    "            conv_out_channels=32, \n",
    "            conv_num_layers=1, \n",
    "            conv_aggr='mean', \n",
    "            lstm_out_channels=64, \n",
    "            lstm_num_layers=1\n",
    "        )\n",
    "        \n",
    "        self.out = nn.Sequential(\n",
    "            nn.Linear(64, 32),\n",
    "            nn.Dropout(0.2),\n",
    "            nn.ReLU(),\n",
    "            nn.Linear(32, 1),\n",
    "            nn.Flatten(start_dim=0, end_dim=-1)\n",
    "        )\n",
    "\n",
    "    def forward(self, window, h, c):        \n",
    "        edge_index = window.edge_index\n",
    "        x = window.x\n",
    "\n",
    "        H, C = [], []\n",
    "        for t in range(lags):\n",
    "            x_t = x[:,t].unsqueeze(0).T\n",
    "            h_tilde, h, c = self.rnn(x_t, edge_index, None, h, c)\n",
    "            \n",
    "            H.append(h.detach())\n",
    "            C.append(c.detach())\n",
    "\n",
    "        pred = self.out(h_tilde)\n",
    "\n",
    "        return pred, H, C\n",
    "    \n",
    "model = RecurrentGCN()\n",
    "optimizer = torch.optim.Adam(model.parameters(), lr=0.01)\n",
    "\n",
    "\n",
    "### TRAIN\n",
    "model.train()\n",
    "\n",
    "loss_history = []\n",
    "for _ in tqdm(range(epochs)):\n",
    "    total_loss = 0\n",
    "    h, c = None, None\n",
    "    for i, window in enumerate(train_dataset):\n",
    "        optimizer.zero_grad()\n",
    "        \n",
    "        y_pred, H, C = model(window, h, c)\n",
    "\n",
    "        h = H[0]\n",
    "        c = C[0]\n",
    "    \n",
    "        assert y_pred.shape == window.y.shape\n",
    "        loss = torch.mean((y_pred - window.y)**2)\n",
    "        total_loss += loss.item()\n",
    "        \n",
    "        loss.backward()\n",
    "        optimizer.step()\n",
    "    total_loss /= i+1\n",
    "    loss_history.append(total_loss)\n",
    "\n",
    "### TEST \n",
    "model.eval()\n",
    "loss = 0\n",
    "with torch.no_grad():\n",
    "    h, c = None, None\n",
    "    for i, window in enumerate(test_dataset):\n",
    "\n",
    "        y_pred, H, C = model(window, h, c)\n",
    "\n",
    "        h = H[0]\n",
    "        c = C[0]\n",
    "        \n",
    "        assert y_pred.shape == window.y.shape\n",
    "        loss += torch.mean((y_pred - window.y)**2)\n",
    "    loss /= i+1\n",
    "\n",
    "### RESULTS PLOT\n",
    "fig, ax = plt.subplots()\n",
    "\n",
    "x_ticks = np.arange(1, epochs+1)\n",
    "ax.plot(x_ticks, loss_history)\n",
    "\n",
    "# figure labels\n",
    "ax.set_title('Loss over time', fontweight='bold')\n",
    "ax.set_xlabel('Epochs', fontweight='bold')\n",
    "ax.set_ylabel('Mean Squared Error', fontweight='bold')\n",
    "plt.show()\n",
    "\n",
    "print(\"Train MSE: {:.4f}\".format(total_loss))\n",
    "print(\"Test MSE: {:.4f}\".format(loss))\n"
   ]
  },
  {
   "cell_type": "code",
   "execution_count": null,
   "id": "822b30e0",
   "metadata": {},
   "outputs": [],
   "source": []
  }
 ],
 "metadata": {
  "interpreter": {
   "hash": "9dc1092468b6c95b716c12f4a89881ec47ccb10a5d5fac9cc7256670f9aa8e17"
  },
  "kernelspec": {
   "display_name": "Python 3.7.0 64-bit ('py37': conda)",
   "name": "python3"
  },
  "language_info": {
   "codemirror_mode": {
    "name": "ipython",
    "version": 3
   },
   "file_extension": ".py",
   "mimetype": "text/x-python",
   "name": "python",
   "nbconvert_exporter": "python",
   "pygments_lexer": "ipython3",
   "version": "3.7.0"
  }
 },
 "nbformat": 4,
 "nbformat_minor": 5
}
